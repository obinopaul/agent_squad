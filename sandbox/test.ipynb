{
 "cells": [
  {
   "cell_type": "code",
   "execution_count": 10,
   "id": "57d5eaf4",
   "metadata": {},
   "outputs": [],
   "source": [
    "from daytona_api_client.models.execute_response import ExecuteResponse"
   ]
  },
  {
   "cell_type": "code",
   "execution_count": null,
   "id": "5d5e1cf1",
   "metadata": {},
   "outputs": [
    {
     "ename": "ImportError",
     "evalue": "cannot import name 'Workspace' from 'daytona' (c:\\Users\\pault\\anaconda3\\envs\\app_project\\Lib\\site-packages\\daytona\\__init__.py)",
     "output_type": "error",
     "traceback": [
      "\u001b[1;31m---------------------------------------------------------------------------\u001b[0m",
      "\u001b[1;31mImportError\u001b[0m                               Traceback (most recent call last)",
      "Cell \u001b[1;32mIn[6], line 1\u001b[0m\n\u001b[1;32m----> 1\u001b[0m \u001b[38;5;28;01mfrom\u001b[39;00m\u001b[38;5;250m \u001b[39m\u001b[38;5;21;01mdaytona\u001b[39;00m\u001b[38;5;250m \u001b[39m\u001b[38;5;28;01mimport\u001b[39;00m Daytona, DaytonaConfig, CreateSandboxFromSnapshotParams, Workspace, SessionExecuteRequest\n\u001b[0;32m      2\u001b[0m \u001b[38;5;28;01mimport\u001b[39;00m\u001b[38;5;250m \u001b[39m\u001b[38;5;21;01mos\u001b[39;00m\n\u001b[0;32m      3\u001b[0m \u001b[38;5;28;01mfrom\u001b[39;00m\u001b[38;5;250m \u001b[39m\u001b[38;5;21;01mdotenv\u001b[39;00m\u001b[38;5;250m \u001b[39m\u001b[38;5;28;01mimport\u001b[39;00m load_dotenv\n",
      "\u001b[1;31mImportError\u001b[0m: cannot import name 'Workspace' from 'daytona' (c:\\Users\\pault\\anaconda3\\envs\\app_project\\Lib\\site-packages\\daytona\\__init__.py)"
     ]
    }
   ],
   "source": [
    "from daytona import Daytona, DaytonaConfig, CreateSandboxFromSnapshotParams, SessionExecuteRequest\n",
    "daytona_api_client\n",
    "import os\n",
    "from dotenv import load_dotenv\n",
    "load_dotenv()\n",
    "\n",
    "daytona = Daytona(DaytonaConfig(api_key=os.getenv(\"DAYTONA_API_KEY\")))\n",
    "\n",
    "\n",
    "sandbox = daytona.create()"
   ]
  },
  {
   "cell_type": "code",
   "execution_count": 17,
   "id": "ea3bd288",
   "metadata": {},
   "outputs": [],
   "source": [
    "from daytona_api_client.api.toolbox_api import ToolboxApi\n",
    "toolbox_api = ToolboxApi()"
   ]
  },
  {
   "cell_type": "code",
   "execution_count": 24,
   "id": "f579225b",
   "metadata": {},
   "outputs": [
    {
     "ename": "ImportError",
     "evalue": "cannot import name 'CompiledGraph' from 'langgraph.graph' (c:\\Users\\pault\\anaconda3\\envs\\app_project\\Lib\\site-packages\\langgraph\\graph\\__init__.py)",
     "output_type": "error",
     "traceback": [
      "\u001b[1;31m---------------------------------------------------------------------------\u001b[0m",
      "\u001b[1;31mImportError\u001b[0m                               Traceback (most recent call last)",
      "Cell \u001b[1;32mIn[24], line 2\u001b[0m\n\u001b[0;32m      1\u001b[0m \u001b[38;5;28;01mfrom\u001b[39;00m\u001b[38;5;250m \u001b[39m\u001b[38;5;21;01mlanggraph\u001b[39;00m\u001b[38;5;21;01m.\u001b[39;00m\u001b[38;5;21;01mgraph\u001b[39;00m\u001b[38;5;250m \u001b[39m\u001b[38;5;28;01mimport\u001b[39;00m StateGraph, END\n\u001b[1;32m----> 2\u001b[0m \u001b[38;5;28;01mfrom\u001b[39;00m\u001b[38;5;250m \u001b[39m\u001b[38;5;21;01mlanggraph\u001b[39;00m\u001b[38;5;21;01m.\u001b[39;00m\u001b[38;5;21;01mgraph\u001b[39;00m\u001b[38;5;250m \u001b[39m\u001b[38;5;28;01mimport\u001b[39;00m CompiledGraph  \u001b[38;5;66;03m# only if you really need it\u001b[39;00m\n",
      "\u001b[1;31mImportError\u001b[0m: cannot import name 'CompiledGraph' from 'langgraph.graph' (c:\\Users\\pault\\anaconda3\\envs\\app_project\\Lib\\site-packages\\langgraph\\graph\\__init__.py)"
     ]
    }
   ],
   "source": [
    "from langgraph.graph import StateGraph, END\n",
    "from langgraph.graph import CompiledGraph  # only if you really need it\n"
   ]
  },
  {
   "cell_type": "code",
   "execution_count": null,
   "id": "08015dd7",
   "metadata": {},
   "outputs": [],
   "source": []
  }
 ],
 "metadata": {
  "kernelspec": {
   "display_name": "app_project",
   "language": "python",
   "name": "python3"
  },
  "language_info": {
   "codemirror_mode": {
    "name": "ipython",
    "version": 3
   },
   "file_extension": ".py",
   "mimetype": "text/x-python",
   "name": "python",
   "nbconvert_exporter": "python",
   "pygments_lexer": "ipython3",
   "version": "3.11.5"
  }
 },
 "nbformat": 4,
 "nbformat_minor": 5
}
